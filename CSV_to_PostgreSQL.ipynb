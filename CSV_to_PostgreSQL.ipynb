{
  "cells": [
    {
      "cell_type": "markdown",
      "metadata": {
        "id": "view-in-github",
        "colab_type": "text"
      },
      "source": [
        "<a href=\"https://colab.research.google.com/github/rosmyt/Access-PostgreSQL-Using-Python/blob/main/CSV_to_PostgreSQL.ipynb\" target=\"_parent\"><img src=\"https://colab.research.google.com/assets/colab-badge.svg\" alt=\"Open In Colab\"/></a>"
      ]
    },
    {
      "cell_type": "code",
      "execution_count": null,
      "id": "9b688ab5-734f-405d-a91b-ae66d2e77a60",
      "metadata": {
        "id": "9b688ab5-734f-405d-a91b-ae66d2e77a60"
      },
      "outputs": [],
      "source": [
        "# !pip install pandas"
      ]
    },
    {
      "cell_type": "code",
      "execution_count": null,
      "id": "469136b4-e4ef-44fe-b1fa-7a3594d8133d",
      "metadata": {
        "id": "469136b4-e4ef-44fe-b1fa-7a3594d8133d",
        "outputId": "35f8d756-ff6f-40a4-823d-3e2c9395c089"
      },
      "outputs": [
        {
          "name": "stderr",
          "output_type": "stream",
          "text": [
            "C:\\Users\\Home\\AppData\\Local\\Temp\\ipykernel_15812\\979458548.py:2: DeprecationWarning: \n",
            "Pyarrow will become a required dependency of pandas in the next major release of pandas (pandas 3.0),\n",
            "(to allow more performant data types, such as the Arrow string type, and better interoperability with other libraries)\n",
            "but was not found to be installed on your system.\n",
            "If this would cause problems for you,\n",
            "please provide us feedback at https://github.com/pandas-dev/pandas/issues/54466\n",
            "        \n",
            "  import pandas as pd\n"
          ]
        }
      ],
      "source": [
        "import psycopg2\n",
        "import pandas as pd"
      ]
    },
    {
      "cell_type": "code",
      "execution_count": null,
      "id": "49d9c138-dcff-4119-919e-c187bbc9508e",
      "metadata": {
        "id": "49d9c138-dcff-4119-919e-c187bbc9508e"
      },
      "outputs": [],
      "source": [
        "def create_database():\n",
        "    # Connect to database\n",
        "    conn = psycopg2.connect(host=\"127.0.0.1\", dbname=\"myfirstdb\", user=\"postgres\", password=\"hA!lmary1122\", port=\"5432\")\n",
        "    conn.set_session(autocommit=True)\n",
        "    cur = conn.cursor()\n",
        "    return conn, cur"
      ]
    },
    {
      "cell_type": "code",
      "execution_count": null,
      "id": "eed52614-fbf1-496b-b3f9-4bf10bf2203a",
      "metadata": {
        "id": "eed52614-fbf1-496b-b3f9-4bf10bf2203a"
      },
      "outputs": [],
      "source": [
        "AccountsCountry = pd.read_csv(\"G:/Data Engineer Project/Account_Data/Wealth-AccountsCountry.csv\")"
      ]
    },
    {
      "cell_type": "code",
      "execution_count": null,
      "id": "668f8944-f2e1-4e39-8c48-b306c2990ba6",
      "metadata": {
        "id": "668f8944-f2e1-4e39-8c48-b306c2990ba6"
      },
      "outputs": [],
      "source": [
        "AccountsCountry.head()"
      ]
    },
    {
      "cell_type": "code",
      "execution_count": null,
      "id": "41ec9760-718f-462e-afb8-b68d0ddf6d0a",
      "metadata": {
        "id": "41ec9760-718f-462e-afb8-b68d0ddf6d0a"
      },
      "outputs": [],
      "source": [
        "AccountsCountry_clean = AccountsCountry[[\"Code\",\"Long Name\", \"Short Name\", \"Table Name\", \"Currency Unit\"]]\n",
        "# AccountsCountry_clean.head()"
      ]
    },
    {
      "cell_type": "code",
      "execution_count": null,
      "id": "ab26fb27-6b1f-4b00-add5-d1b9d77dc3b3",
      "metadata": {
        "id": "ab26fb27-6b1f-4b00-add5-d1b9d77dc3b3"
      },
      "outputs": [],
      "source": [
        "AccountsData = pd.read_csv(\"G:/Data Engineer Project/Account_Data/Wealth-AccountData.csv\")\n",
        "# AccountsData.head()"
      ]
    },
    {
      "cell_type": "code",
      "execution_count": null,
      "id": "277d78cd-e87e-42f0-a722-0292013a4ef2",
      "metadata": {
        "id": "277d78cd-e87e-42f0-a722-0292013a4ef2"
      },
      "outputs": [],
      "source": [
        "AccountsData.columns"
      ]
    },
    {
      "cell_type": "code",
      "execution_count": null,
      "id": "77475145-fdf4-46c3-9a96-8669a003afbf",
      "metadata": {
        "id": "77475145-fdf4-46c3-9a96-8669a003afbf"
      },
      "outputs": [],
      "source": [
        "AccountsData_clean = AccountsData[['Country Name', 'Country Code', 'Series Name', 'Series Code','1995 [YR1995]',\n",
        "                                   '2000 [YR2000]','2005 [YR2005]','2010 [YR2010]','2014 [YR2014]']]"
      ]
    },
    {
      "cell_type": "code",
      "execution_count": null,
      "id": "dbd2be01-31ea-4d52-aeb3-1045775b140f",
      "metadata": {
        "id": "dbd2be01-31ea-4d52-aeb3-1045775b140f"
      },
      "outputs": [],
      "source": [
        "AccountsData_clean.head()"
      ]
    },
    {
      "cell_type": "code",
      "execution_count": null,
      "id": "4af2063e-eae0-415d-bfde-944aee19f7ba",
      "metadata": {
        "id": "4af2063e-eae0-415d-bfde-944aee19f7ba"
      },
      "outputs": [],
      "source": [
        "AccountsData_clean = AccountsData_clean.rename(columns={'1995 [YR1995]':'1995','2000 [YR2000]':'2000','2005 [YR2005]':'2005','2010 [YR2010]':'2010','2014 [YR2014]':'2014'})\n",
        "# AccountsData_clean.head()"
      ]
    },
    {
      "cell_type": "code",
      "execution_count": null,
      "id": "39048faf-0d0a-429c-bfe3-4f02db6a60ab",
      "metadata": {
        "id": "39048faf-0d0a-429c-bfe3-4f02db6a60ab",
        "outputId": "f81c3f23-cc44-492c-efec-41c99db244bb"
      },
      "outputs": [
        {
          "data": {
            "text/plain": [
              "Index(['Code', 'Indicator Name', 'Long definition', 'Source', 'Topic',\n",
              "       'Unit of measure', 'Periodicity', 'Reference period',\n",
              "       'Statistical concept and methodology', 'Previous Indicator Code',\n",
              "       'Previous Indicator Name'],\n",
              "      dtype='object')"
            ]
          },
          "execution_count": 12,
          "metadata": {},
          "output_type": "execute_result"
        }
      ],
      "source": [
        "AccountSeries = pd.read_csv(\"G:/Data Engineer Project/Account_Data/Wealth-AccountSeries.csv\")\n",
        "AccountSeries.columns"
      ]
    },
    {
      "cell_type": "code",
      "execution_count": null,
      "id": "cc628621-4e33-486e-8a20-e96a7a1711e8",
      "metadata": {
        "id": "cc628621-4e33-486e-8a20-e96a7a1711e8",
        "outputId": "c9c6afbc-16d7-45a9-9eac-90b0f7cfff66"
      },
      "outputs": [
        {
          "data": {
            "text/html": [
              "<div>\n",
              "<style scoped>\n",
              "    .dataframe tbody tr th:only-of-type {\n",
              "        vertical-align: middle;\n",
              "    }\n",
              "\n",
              "    .dataframe tbody tr th {\n",
              "        vertical-align: top;\n",
              "    }\n",
              "\n",
              "    .dataframe thead th {\n",
              "        text-align: right;\n",
              "    }\n",
              "</style>\n",
              "<table border=\"1\" class=\"dataframe\">\n",
              "  <thead>\n",
              "    <tr style=\"text-align: right;\">\n",
              "      <th></th>\n",
              "      <th>Code</th>\n",
              "      <th>Indicator Name</th>\n",
              "      <th>Long definition</th>\n",
              "      <th>Topic</th>\n",
              "    </tr>\n",
              "  </thead>\n",
              "  <tbody>\n",
              "    <tr>\n",
              "      <th>0</th>\n",
              "      <td>NW.HCA.TO</td>\n",
              "      <td>Human capital (constant 2018 US$)</td>\n",
              "      <td>Human capital is computed as the present value...</td>\n",
              "      <td>Human capital</td>\n",
              "    </tr>\n",
              "    <tr>\n",
              "      <th>1</th>\n",
              "      <td>NW.HCA.PC</td>\n",
              "      <td>Human capital per capita (constant 2018 US$)</td>\n",
              "      <td>Human capital is computed as the present value...</td>\n",
              "      <td>Human capital</td>\n",
              "    </tr>\n",
              "    <tr>\n",
              "      <th>2</th>\n",
              "      <td>NW.HCA.FEMP.PC</td>\n",
              "      <td>Human capital per capita, employed female (con...</td>\n",
              "      <td>Human capital is computed as the present value...</td>\n",
              "      <td>Human capital</td>\n",
              "    </tr>\n",
              "    <tr>\n",
              "      <th>3</th>\n",
              "      <td>NW.HCA.MEMP.PC</td>\n",
              "      <td>Human capital per capita, employed male (const...</td>\n",
              "      <td>Human capital is computed as the present value...</td>\n",
              "      <td>Human capital</td>\n",
              "    </tr>\n",
              "    <tr>\n",
              "      <th>4</th>\n",
              "      <td>NW.HCA.FEMA.PC</td>\n",
              "      <td>Human capital per capita, female (constant 201...</td>\n",
              "      <td>Human capital is computed as the present value...</td>\n",
              "      <td>Human capital</td>\n",
              "    </tr>\n",
              "  </tbody>\n",
              "</table>\n",
              "</div>"
            ],
            "text/plain": [
              "             Code                                     Indicator Name  \\\n",
              "0       NW.HCA.TO                  Human capital (constant 2018 US$)   \n",
              "1       NW.HCA.PC       Human capital per capita (constant 2018 US$)   \n",
              "2  NW.HCA.FEMP.PC  Human capital per capita, employed female (con...   \n",
              "3  NW.HCA.MEMP.PC  Human capital per capita, employed male (const...   \n",
              "4  NW.HCA.FEMA.PC  Human capital per capita, female (constant 201...   \n",
              "\n",
              "                                     Long definition          Topic  \n",
              "0  Human capital is computed as the present value...  Human capital  \n",
              "1  Human capital is computed as the present value...  Human capital  \n",
              "2  Human capital is computed as the present value...  Human capital  \n",
              "3  Human capital is computed as the present value...  Human capital  \n",
              "4  Human capital is computed as the present value...  Human capital  "
            ]
          },
          "execution_count": 13,
          "metadata": {},
          "output_type": "execute_result"
        }
      ],
      "source": [
        "AccountSeries_clean = AccountSeries[['Code', 'Indicator Name', 'Long definition', 'Topic',]]\n",
        "AccountSeries_clean.head()"
      ]
    },
    {
      "cell_type": "code",
      "execution_count": null,
      "id": "015aa304-e314-41d6-b200-e430f2dce8e0",
      "metadata": {
        "id": "015aa304-e314-41d6-b200-e430f2dce8e0"
      },
      "outputs": [],
      "source": [
        "con, cur = create_database()"
      ]
    },
    {
      "cell_type": "code",
      "execution_count": null,
      "id": "ad45e057-c9ae-4bad-9cb5-647810d64227",
      "metadata": {
        "id": "ad45e057-c9ae-4bad-9cb5-647810d64227"
      },
      "outputs": [],
      "source": [
        "songplay_table_create = (\"\"\"CREATE TABLE IF NOT EXISTS accountscountry(\n",
        "country_code VARCHAR PRIMARY KEY,\n",
        "short_name VARCHAR,\n",
        "table_name VARCHAR,\n",
        "long_name VARCHAR,\n",
        "currency_unit VARCHAR\n",
        ") \"\"\")"
      ]
    },
    {
      "cell_type": "code",
      "execution_count": null,
      "id": "56ba639f-b6f7-4507-8734-01981ba5f3af",
      "metadata": {
        "id": "56ba639f-b6f7-4507-8734-01981ba5f3af"
      },
      "outputs": [],
      "source": [
        "cur.execute(songplay_table_create)"
      ]
    },
    {
      "cell_type": "code",
      "execution_count": null,
      "id": "b228e622-fad2-423d-94de-8604cc78b8b1",
      "metadata": {
        "id": "b228e622-fad2-423d-94de-8604cc78b8b1"
      },
      "outputs": [],
      "source": []
    }
  ],
  "metadata": {
    "kernelspec": {
      "display_name": "Python 3 (ipykernel)",
      "language": "python",
      "name": "python3"
    },
    "language_info": {
      "codemirror_mode": {
        "name": "ipython",
        "version": 3
      },
      "file_extension": ".py",
      "mimetype": "text/x-python",
      "name": "python",
      "nbconvert_exporter": "python",
      "pygments_lexer": "ipython3",
      "version": "3.12.1"
    },
    "colab": {
      "provenance": [],
      "include_colab_link": true
    }
  },
  "nbformat": 4,
  "nbformat_minor": 5
}